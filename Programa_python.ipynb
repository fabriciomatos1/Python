{
  "nbformat": 4,
  "nbformat_minor": 0,
  "metadata": {
    "colab": {
      "name": "Programa python",
      "provenance": [],
      "collapsed_sections": []
    },
    "kernelspec": {
      "name": "python3",
      "display_name": "Python 3"
    }
  },
  "cells": [
    {
      "cell_type": "code",
      "metadata": {
        "id": "I1IXGfW7f2OT",
        "colab_type": "code",
        "colab": {
          "base_uri": "https://localhost:8080/",
          "height": 323
        },
        "outputId": "ce92c0dc-56b7-4a70-e629-dda2b1bf0eaa"
      },
      "source": [
        "from time import sleep\n",
        "dados= {}\n",
        "geral= []\n",
        "c=fm=tot=ac=0\n",
        "while True:\n",
        "  dados[\"Nomes\"]=str(input(\"Nome: \"))\n",
        "  idades=int(input(\"Idade: \"))\n",
        "  dados[\"Idades\"]=idades\n",
        "  tot+=dados[\"Idades\"]\n",
        "  sexo=str(input(\"Sexo: [M/F]\")).upper().strip()\n",
        "  dados[\"Sexos\"]=sexo\n",
        "  geral.append(dados.copy())\n",
        "  while sexo not in \"MF\":\n",
        "    sexo=str(input(\"Sexo errado! Digite novamente: [M/F]\")).upper().strip()\n",
        "  c+=1\n",
        "  print(f\"Foram cadastrados {c}!\")\n",
        "  if sexo == \"F\":\n",
        "    fm+=1\n",
        "  med=tot/len(geral)\n",
        "  if dados[\"Idades\"] > med:\n",
        "    ac+=1\n",
        "  contn=str(input(\"Quer continuar? [S/N]\")).upper().strip()\n",
        "  while contn not in \"SN\":\n",
        "    contn=str(input(\"Valor inválido! Digite novamente: [S/N]\")).upper().strip()\n",
        "  if contn == \"N\":\n",
        "    print(\"PROCESSANDO...\")\n",
        "    sleep(2)\n",
        "    break\n",
        "print(\"~\"*30)\n",
        "print(f\"O total de mulheres foi {fm}!\")\n",
        "print(f\"A média foi {med}\")\n",
        "print(f\"Acima da média foram {ac} pessoas!\")\n",
        "print(\"~\"*30)\n",
        "print(\"<< ENCERRADO >>\")\n"
      ],
      "execution_count": 159,
      "outputs": [
        {
          "output_type": "stream",
          "text": [
            "Nome: Fabricio\n",
            "Idade: 22\n",
            "Sexo: [M/F]d\n",
            "Sexo errado! Digite novamente: [M/F]m\n",
            "Foram cadastrados 1!\n",
            "Quer continuar? [S/N]s\n",
            "Nome: Renete\n",
            "Idade: 77\n",
            "Sexo: [M/F]f\n",
            "Foram cadastrados 2!\n",
            "Quer continuar? [S/N]n\n",
            "PROCESSANDO...\n",
            "~~~~~~~~~~~~~~~~~~~~~~~~~~~~~~\n",
            "O total de mulheres foi 1!\n",
            "A média foi 49.5\n",
            "Acima da média foram 1 pessoas!\n",
            "~~~~~~~~~~~~~~~~~~~~~~~~~~~~~~\n",
            "<< ENCERRADO >>\n"
          ],
          "name": "stdout"
        }
      ]
    }
  ]
}